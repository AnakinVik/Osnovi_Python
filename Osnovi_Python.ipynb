{
 "cells": [
  {
   "cell_type": "markdown",
   "metadata": {},
   "source": [
    "# Задание 1: Сравнение длины строк."
   ]
  },
  {
   "cell_type": "code",
   "execution_count": 2,
   "metadata": {},
   "outputs": [
    {
     "name": "stdout",
     "output_type": "stream",
     "text": [
      "Ввести любой текст:От топота копыт пыль по полю летит.\n",
      "Ввести любой текст:На дворе трава, на траве дрова. Не руби дрова на траве двора.\n",
      "Фраза 2 длиннее фразы 1\n",
      "Конец программы\n"
     ]
    }
   ],
   "source": [
    "phrase_1 = str(input('Ввести любой текст:'))\n",
    "phrase_2 = str(input('Ввести любой текст:'))\n",
    "if len(phrase_1) > len(phrase_2):\n",
    "    print('Фраза 1 длиннее фразы 2')\n",
    "elif len(phrase_1) < len(phrase_2):\n",
    "    print('Фраза 2 длиннее фразы 1')\n",
    "else:\n",
    "    print('Фраз равны по длине')\n",
    "print('Конец программы.')"
   ]
  },
  {
   "cell_type": "markdown",
   "metadata": {},
   "source": [
    "# Задание 2: Определение года как високосный/обычный."
   ]
  },
  {
   "cell_type": "code",
   "execution_count": 3,
   "metadata": {},
   "outputs": [
    {
     "name": "stdout",
     "output_type": "stream",
     "text": [
      "Ввести год - 2020\n",
      "2020 - високосный год\n",
      "Конец программы.\n"
     ]
    }
   ],
   "source": [
    "year = int(input('Ввести год - '))\n",
    "if year % 4 == 0:\n",
    "     print(year, '- високосный год')\n",
    "elif year % 4 != 0:\n",
    "    print(year, '- обычный год')\n",
    "print('Конец программы.')"
   ]
  },
  {
   "cell_type": "markdown",
   "metadata": {},
   "source": [
    "# Задание 3: Определение знака зодиака."
   ]
  },
  {
   "cell_type": "code",
   "execution_count": 3,
   "metadata": {},
   "outputs": [
    {
     "name": "stdout",
     "output_type": "stream",
     "text": [
      "Ввести день рождения - 24\n",
      "Ввести месяц рождения - Декабрь\n",
      "Ваш знак зодиака: Козерог\n",
      "Конец программы.\n"
     ]
    }
   ],
   "source": [
    "date = int(input('Ввести день рождения - '))\n",
    "month = str(input('Ввести месяц рождения - '))\n",
    "if month == 'Январь' and date >= 21 and d <= 31 or month == 'Февраль' and date >= 1 and date <= 18:\n",
    "    print('Ваш знак зодиака: Водолей')\n",
    "elif month == 'Февраль' and date >= 19 and date <= 29 or month == 'Март' and date >= 1 and date <= 20:\n",
    "    print('Ваш знак зодиака: Рыбы')\n",
    "elif month == 'Март' and date >= 21 and date <= 31 or month == 'Апрель' and date >= 1 and date <= 19:\n",
    "    print('Ваш знак зодиака: Овен')\n",
    "elif month == 'Апрель' and date >= 20 and date <= 30 or month == 'Май' and date >= 1 and date <= 20:\n",
    "    print('Ваш знак зодиака: Телец')\n",
    "elif month == 'Май' and date >= 21 and date <= 31 or month == 'Июнь' and date >= 1 and date <= 21:\n",
    "    print('Ваш знак зодиака: Близнецы')\n",
    "elif month == 'Июнь' and date >= 22 and date <= 30 or month == 'Июль' and date >= 1 and date <= 22:\n",
    "    print('Ваш знак зодиака: Рак')\n",
    "elif month == 'Июль' and date >= 23 and date <= 31 or month == 'Август' and date >= 1 and date <= 22:\n",
    "    print('Ваш знак зодиака: Лев')\n",
    "elif month == 'Август' and date >= 23 and date <= 31 or month == 'Сентябрь' and date >= 1 and date <= 22:\n",
    "    print('Ваш знак зодиака: Дева')\n",
    "elif month == 'Сентябрь' and date >= 23 and date <= 30 or month == 'Октябрь' and date >= 1 and date <= 23:\n",
    "    print('Ваш знак зодиака: Весы')\n",
    "elif month == 'Октябрь' and date >= 24 and date <= 31 or month == 'Ноябрь' and date >= 1 and date <= 22:\n",
    "    print('Ваш знак зодиака: Скорпион')\n",
    "elif month == 'Ноябрь' and date >= 23 and date <= 30 or month == 'Декабрь' and date >= 1 and date <= 21:\n",
    "    print('Ваш знак зодиака: Стрелец')\n",
    "elif month == 'Декабрь' and date >= 22 and date <= 31 or month == 'Январь' and date >= 1 and date <= 20:\n",
    "    print('Ваш знак зодиака: Козерог')\n",
    "print('Конец программы.')"
   ]
  },
  {
   "cell_type": "markdown",
   "metadata": {},
   "source": [
    "   # Задание 4: Определение типа упаковки по размеру товара"
   ]
  },
  {
   "cell_type": "code",
   "execution_count": 9,
   "metadata": {},
   "outputs": [
    {
     "name": "stdout",
     "output_type": "stream",
     "text": [
      "Ввести вес товара - 20\n",
      "Ввести высоту товара - 220\n",
      "Ввести толщина товара - 20\n",
      "Коробка №2\n",
      "Упаковка для лыж\n",
      "Конец программы.\n"
     ]
    }
   ],
   "source": [
    "weigth = int(input('Ввести вес товара - '))\n",
    "length = int(input('Ввести высоту товара - '))\n",
    "height = int(input('Ввести толщина товара - '))\n",
    "if weigth < 15 and length < 15 and height < 15:\n",
    "    print('Коробка №1')\n",
    "elif ((weigth > 15 and weigth < 50)\n",
    "      or (length > 15 and length < 50)\n",
    "      or (height > 15 and height < 50)): \n",
    "    print('Коробка №2')\n",
    "if length > 200:\n",
    "    print('Упаковка для лыж')\n",
    "else:\n",
    "    print('Стандартная коробка №3')\n",
    "print('Конец программы.')"
   ]
  }
 ],
 "metadata": {
  "kernelspec": {
   "display_name": "Python 3",
   "language": "python",
   "name": "python3"
  },
  "language_info": {
   "codemirror_mode": {
    "name": "ipython",
    "version": 3
   },
   "file_extension": ".py",
   "mimetype": "text/x-python",
   "name": "python",
   "nbconvert_exporter": "python",
   "pygments_lexer": "ipython3",
   "version": "3.8.5"
  }
 },
 "nbformat": 4,
 "nbformat_minor": 4
}
