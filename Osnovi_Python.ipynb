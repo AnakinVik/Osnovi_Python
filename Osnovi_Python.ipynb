{
 "cells": [
  {
   "cell_type": "markdown",
   "metadata": {},
   "source": [
    "# Задание 1: Сравнение длины строк."
   ]
  },
  {
   "cell_type": "code",
   "execution_count": 32,
   "metadata": {},
   "outputs": [
    {
     "name": "stdout",
     "output_type": "stream",
     "text": [
      "Фраз равны по длине\n"
     ]
    }
   ],
   "source": [
    "phrase_1 = 'От топота копыт пыль по полю летит.'\n",
    "phrase_2 = 'От топота копыт пыль по полю летит.'\n",
    "if len(phrase_1) > len(phrase_2):\n",
    "    print('Фраза 1 длиннее фразы 2')\n",
    "elif len(phrase_1) < len(phrase_2):\n",
    "    print('Фраза 2 длиннее фразы 1')\n",
    "else:\n",
    "    print('Фраз равны по длине')"
   ]
  },
  {
   "cell_type": "markdown",
   "metadata": {},
   "source": [
    "# Задание 2: Определение года как високосный/обычный."
   ]
  },
  {
   "cell_type": "code",
   "execution_count": 34,
   "metadata": {},
   "outputs": [
    {
     "name": "stdout",
     "output_type": "stream",
     "text": [
      "Ввести год 2020\n",
      "2020 - високосный год\n"
     ]
    }
   ],
   "source": [
    "year = int(input('Ввести год - '))\n",
    "if year % 4 == 0:\n",
    "     print(year, '- високосный год')\n",
    "elif year % 4 != 0:\n",
    "    print(year, '- обычный год')"
   ]
  },
  {
   "cell_type": "markdown",
   "metadata": {},
   "source": [
    "# Задание 3: Определение знака зодиака."
   ]
  },
  {
   "cell_type": "code",
   "execution_count": 39,
   "metadata": {},
   "outputs": [
    {
     "name": "stdout",
     "output_type": "stream",
     "text": [
      "Ввести день рождения - 30\n",
      "Ввести месяц рождения - 8\n",
      "Ваш знак зодиака: Дева\n"
     ]
    }
   ],
   "source": [
    "date = int(input('Ввести день рождения - '))\n",
    "month = int(input('Ввести месяц рождения - '))\n",
    "if month== 1 and date >= 21 and d <= 31 or month == 2 and date >= 1 and date <= 18:\n",
    "    print('Ваш знак зодиака: Водолей')\n",
    "elif month == 2 and date >= 19 and date <= 29 or month == 3 and date >= 1 and date <= 20:\n",
    "    print('Ваш знак зодиака: Рыбы')\n",
    "elif month == 3 and date >= 21 and date <= 31 or month == 4 and date >= 1 and date <= 19:\n",
    "    print('Ваш знак зодиака: Овен')\n",
    "elif month == 4 and date >= 20 and date <= 30 or month == 5 and date >= 1 and date <= 20:\n",
    "    print('Ваш знак зодиака: Телец')\n",
    "elif month == 5 and date >= 21 and date <= 31 or month == 6 and date >= 1 and date <= 21:\n",
    "    print('Ваш знак зодиака: Близнецы')\n",
    "elif month == 6 and date >= 22 and date <= 30 or month == 7 and date >= 1 and date <= 22:\n",
    "    print('Ваш знак зодиака: Рак')\n",
    "elif month == 7 and date >= 23 and date <= 31 or month == 8 and date >= 1 and date <= 22:\n",
    "    print('Ваш знак зодиака: Лев')\n",
    "elif month == 8 and date >= 23 and date <= 31 or month == 9 and date >= 1 and date <= 22:\n",
    "    print('Ваш знак зодиака: Дева')\n",
    "elif month == 9 and date >= 23 and date <= 30 or month == 10 and date >= 1 and date <= 23:\n",
    "    print('Ваш знак зодиака: Весы')\n",
    "elif month == 10 and date >= 24 and date <= 31 or month == 11 and date >= 1 and date <= 22:\n",
    "    print('Ваш знак зодиака: Скорпион')\n",
    "elif month == 11 and date >= 23 and date <= 30 or month == 12 and date >= 1 and date <= 21:\n",
    "    print('Ваш знак зодиака: Стрелец')\n",
    "elif month == 12 and date >= 22 and date <= 31 or month == 1 and date >= 1 and date <= 20:\n",
    "    print('Ваш знак зодиака: Козерог')"
   ]
  },
  {
   "cell_type": "markdown",
   "metadata": {},
   "source": [
    "   # Задание 4: Определение типа упаковки по размеру товара"
   ]
  },
  {
   "cell_type": "code",
   "execution_count": 37,
   "metadata": {},
   "outputs": [
    {
     "name": "stdout",
     "output_type": "stream",
     "text": [
      "Ввести вес товара - 13\n",
      "Ввести высоту товара - 189\n",
      "Ввести толщина товара - 13\n",
      "Стандартная коробка №3\n"
     ]
    }
   ],
   "source": [
    "weigth = int(input('Ввести вес товара - '))\n",
    "length = int(input('Ввести высоту товара - '))\n",
    "height = int(input('Ввести толщина товара - '))\n",
    "if weigth < 15 and length < 15 and height < 15:\n",
    "    print('Коробка №1')\n",
    "elif ((weigth > 15 and weigth < 50)\n",
    "      or (length > 15 and length < 50)\n",
    "      or (height > 15 and height < 50)): \n",
    "    print('Коробка №2')\n",
    "elif length > 200:\n",
    "    print('Упаковка для лыж')\n",
    "else:\n",
    "    print('Стандартная коробка №3')"
   ]
  }
 ],
 "metadata": {
  "kernelspec": {
   "display_name": "Python 3",
   "language": "python",
   "name": "python3"
  },
  "language_info": {
   "codemirror_mode": {
    "name": "ipython",
    "version": 3
   },
   "file_extension": ".py",
   "mimetype": "text/x-python",
   "name": "python",
   "nbconvert_exporter": "python",
   "pygments_lexer": "ipython3",
   "version": "3.8.5"
  }
 },
 "nbformat": 4,
 "nbformat_minor": 4
}
