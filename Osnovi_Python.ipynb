{
 "cells": [
  {
   "cell_type": "markdown",
   "metadata": {},
   "source": [
    "# Задание 1: Сравнение длины строк."
   ]
  },
  {
   "cell_type": "code",
   "execution_count": null,
   "metadata": {},
   "outputs": [],
   "source": [
    "phrase_1 = input('Ввести любой текст:')\n",
    "phrase_2 = input('Ввести любой текст:')\n",
    "if len(phrase_1) > len(phrase_2):\n",
    "    print('Фраза 1 длиннее фразы 2')\n",
    "elif len(phrase_1) < len(phrase_2):\n",
    "    print('Фраза 2 длиннее фразы 1')\n",
    "else:\n",
    "    print('Фраз равны по длине')\n",
    "print('Конец программы.')"
   ]
  },
  {
   "cell_type": "markdown",
   "metadata": {},
   "source": [
    "# Задание 2: Определение года как високосный/обычный."
   ]
  },
  {
   "cell_type": "code",
   "execution_count": null,
   "metadata": {},
   "outputs": [],
   "source": [
    "# Согласно Григорианскому календарю год номер которого кратен 4 и 400 - високосный, а кратный 100 - обычный.\n",
    "year = int(input('Ввести год для проверки - '))\n",
    "if year % 4 == 0 or (year % 100 != 0 and year % 400 == 0):\n",
    "     print(year, '- високосный год')\n",
    "else:\n",
    "    print(year, '- обычный год')\n",
    "print('Конец программы.')"
   ]
  },
  {
   "cell_type": "markdown",
   "metadata": {},
   "source": [
    "# Задание 3: Определение знака зодиака."
   ]
  },
  {
   "cell_type": "code",
   "execution_count": null,
   "metadata": {},
   "outputs": [],
   "source": [
    "date = int(input('Ввести день рождения - '))\n",
    "month = input('Ввести месяц рождения - ')\n",
    "if month == 'Январь' and date >= 21 and d <= 31 or month == 'Февраль' and date >= 1 and date <= 18:\n",
    "    print('Ваш знак зодиака: Водолей')\n",
    "elif month == 'Февраль' and date >= 19 and date <= 29 or month == 'Март' and date >= 1 and date <= 20:\n",
    "    print('Ваш знак зодиака: Рыбы')\n",
    "elif month == 'Март' and date >= 21 and date <= 31 or month == 'Апрель' and date >= 1 and date <= 19:\n",
    "    print('Ваш знак зодиака: Овен')\n",
    "elif month == 'Апрель' and date >= 20 and date <= 30 or month == 'Май' and date >= 1 and date <= 20:\n",
    "    print('Ваш знак зодиака: Телец')\n",
    "elif month == 'Май' and date >= 21 and date <= 31 or month == 'Июнь' and date >= 1 and date <= 21:\n",
    "    print('Ваш знак зодиака: Близнецы')\n",
    "elif month == 'Июнь' and date >= 22 and date <= 30 or month == 'Июль' and date >= 1 and date <= 22:\n",
    "    print('Ваш знак зодиака: Рак')\n",
    "elif month == 'Июль' and date >= 23 and date <= 31 or month == 'Август' and date >= 1 and date <= 22:\n",
    "    print('Ваш знак зодиака: Лев')\n",
    "elif month == 'Август' and date >= 23 and date <= 31 or month == 'Сентябрь' and date >= 1 and date <= 22:\n",
    "    print('Ваш знак зодиака: Дева')\n",
    "elif month == 'Сентябрь' and date >= 23 and date <= 30 or month == 'Октябрь' and date >= 1 and date <= 23:\n",
    "    print('Ваш знак зодиака: Весы')\n",
    "elif month == 'Октябрь' and date >= 24 and date <= 31 or month == 'Ноябрь' and date >= 1 and date <= 22:\n",
    "    print('Ваш знак зодиака: Скорпион')\n",
    "elif month == 'Ноябрь' and date >= 23 and date <= 30 or month == 'Декабрь' and date >= 1 and date <= 21:\n",
    "    print('Ваш знак зодиака: Стрелец')\n",
    "elif month == 'Декабрь' and date >= 22 and date <= 31 or month == 'Январь' and date >= 1 and date <= 20:\n",
    "    print('Ваш знак зодиака: Козерог')\n",
    "print('Конец программы.')"
   ]
  },
  {
   "cell_type": "markdown",
   "metadata": {},
   "source": [
    "   # Задание 4: Определение типа упаковки по размеру товара."
   ]
  },
  {
   "cell_type": "code",
   "execution_count": null,
   "metadata": {},
   "outputs": [],
   "source": [
    "width = int(input('Ввести ширину товара - '))\n",
    "length = int(input('Ввести длину товара - '))\n",
    "height = int(input('Ввести высоту товара - '))\n",
    "if (length < 15 and width < 15 and height < 15):\n",
    "    print('Коробка №1')\n",
    "elif (15 < length < 50 or 15 < width < 50 or 15 < height < 50): \n",
    "    print('Коробка №2')\n",
    "if length > 200:\n",
    "    print('Упаковка для лыж')\n",
    "else:\n",
    "    print('Стандартная коробка №3')\n",
    "print('Конец программы.')"
   ]
  },
  {
   "cell_type": "markdown",
   "metadata": {},
   "source": [
    "# Задача 5:"
   ]
  },
  {
   "cell_type": "code",
   "execution_count": null,
   "metadata": {},
   "outputs": [],
   "source": [
    "# Определить, является ли билет (не)счастливым. \n",
    "# Счастливым будет тот билет, у которого сумма первых трех цифр совпадает с суммой последних трех цифр номера.\n",
    "\n",
    "ticket = input('Номер лотерейного билета - ') # По условиям задачи номер не может быть длиннее 6 цифр!\n",
    "ticket_number_as_list = [int(part_number) for part_number in ticket] # Преобразуем строку в список\n",
    "if sum(ticket_number_as_list[:3]) == sum(ticket_number_as_list[-3:]):\n",
    "    print('Счастливый билет!')\n",
    "else:\n",
    "    print('Несчастливый билет!')\n",
    "print('Конец программы.')"
   ]
  },
  {
   "cell_type": "markdown",
   "metadata": {},
   "source": [
    "# Задача 6: Вычисление площади трех разных фигур."
   ]
  },
  {
   "cell_type": "code",
   "execution_count": 3,
   "metadata": {},
   "outputs": [
    {
     "name": "stdout",
     "output_type": "stream",
     "text": [
      "1 - круг, 2 - треугольник, 3 - прямоугольник\n",
      "Выбрать одну из фигур - 2\n",
      "Задать длину сторон треугольника:\n",
      "a = 21\n",
      "b = 31\n",
      "c = 41\n",
      "Площадь треугольника = 317.94\n",
      "Конец программы.\n"
     ]
    }
   ],
   "source": [
    "print('1 - круг, 2 - треугольник, 3 - прямоугольник')\n",
    "figure = input('Выбрать одну из фигур - ')\n",
    "# Для решения данной задачи будем использовать модуль \"math\".\n",
    "if figure == '1':\n",
    "    radius = float(input('Задать радиус круга r = '))\n",
    "    from math import pi\n",
    "    print('Площадь круга = %.2f' % (pi * radius ** 2)) \n",
    "elif figure == '2':\n",
    "    print('Задать длину сторон треугольника:')\n",
    "    side_1 = float(input('a = '))\n",
    "    side_2 = float(input('b = '))\n",
    "    side_3 = float(input('c = '))\n",
    "    semiper = (side_1 + side_2 + side_3) / 2 \n",
    "    from math import sqrt\n",
    "    square = sqrt(semiper * (semiper - side_1) * (semiper - side_2) * (semiper - side_3))\n",
    "    print('Площадь треугольника = %.2f' % square)\n",
    "elif figure == '3':\n",
    "    print('Задать длину сторон прямоугольника:')\n",
    "    side_1 = float(input(\"a = \"))\n",
    "    side_2 = float(input(\"b = \"))\n",
    "        print(\"Площадь прямоугольника =  %.2f\" % (side_1 * side_2)) \n",
    "print('Конец программы.')"
   ]
  }
 ],
 "metadata": {
  "kernelspec": {
   "display_name": "Python 3",
   "language": "python",
   "name": "python3"
  },
  "language_info": {
   "codemirror_mode": {
    "name": "ipython",
    "version": 3
   },
   "file_extension": ".py",
   "mimetype": "text/x-python",
   "name": "python",
   "nbconvert_exporter": "python",
   "pygments_lexer": "ipython3",
   "version": "3.8.5"
  }
 },
 "nbformat": 4,
 "nbformat_minor": 4
}
